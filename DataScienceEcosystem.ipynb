{
 "cells": [
  {
   "cell_type": "markdown",
   "id": "be437602-733b-471a-93e0-5ec8811278a4",
   "metadata": {
    "tags": []
   },
   "source": [
    "# Data Science Tools and Ecosystem"
   ]
  },
  {
   "cell_type": "markdown",
   "id": "97ebedad-a17f-499e-9fa9-8cb194d92813",
   "metadata": {},
   "source": [
    "In this notebook, Data Science Tools and Ecosystem are summarized."
   ]
  },
  {
   "cell_type": "markdown",
   "id": "799f98de-8a53-4997-b9ad-ed396f45e955",
   "metadata": {},
   "source": [
    "Some of the popular languages that Data Scientists use are:\n",
    "* R\n",
    "* Python\n",
    "* SQL"
   ]
  },
  {
   "cell_type": "markdown",
   "id": "00d15775-7464-4b23-ab70-96a721e2bbed",
   "metadata": {},
   "source": [
    "Some of the commonly used libraries used by Data Scientists include:\n",
    "* SciPy\n",
    "* NumPy\n",
    "* MatplotLib"
   ]
  },
  {
   "cell_type": "markdown",
   "id": "32cd59fb-2ee5-4917-9a2f-c1073b35e873",
   "metadata": {},
   "source": [
    "| Data Science Tools |\n",
    "| --- |\n",
    "| Jupyter Notebook |\n",
    "| R Studio |\n",
    "| Visual Studio Code | "
   ]
  },
  {
   "cell_type": "markdown",
   "id": "8c6ea003-869f-42ba-9e76-bff0ced63022",
   "metadata": {},
   "source": [
    "### Below are a few examples of evaluating arithmetic expressions in Python"
   ]
  },
  {
   "cell_type": "code",
   "execution_count": 2,
   "id": "3f09d019-49ba-42a8-aa4b-6c56da868498",
   "metadata": {
    "tags": []
   },
   "outputs": [
    {
     "data": {
      "text/plain": [
       "17"
      ]
     },
     "execution_count": 2,
     "metadata": {},
     "output_type": "execute_result"
    }
   ],
   "source": [
    "# This a simple arithmetic expression to mutiply then add integers\n",
    "(3*4)+5\n"
   ]
  },
  {
   "cell_type": "code",
   "execution_count": 5,
   "id": "14cb2702-01e2-4330-af31-66669e2b1b83",
   "metadata": {
    "tags": []
   },
   "outputs": [
    {
     "data": {
      "text/plain": [
       "3.3333333333333335"
      ]
     },
     "execution_count": 5,
     "metadata": {},
     "output_type": "execute_result"
    }
   ],
   "source": [
    "# This will convert 200 minutes to hours by diving by 60 \n",
    "200 / 60 "
   ]
  },
  {
   "cell_type": "markdown",
   "id": "e5f89727-e2ed-46d3-b166-fbee1e6ff027",
   "metadata": {},
   "source": [
    "**Objectives:**"
   ]
  },
  {
   "cell_type": "markdown",
   "id": "4d7b0233-1f59-4f54-9454-f3bd24f2d088",
   "metadata": {},
   "source": [
    "* List popular languages for Data Science\n",
    "* Navigate Jupyter Notebook\n",
    "* Link Github to Jupyter Notebook"
   ]
  },
  {
   "cell_type": "markdown",
   "id": "ade72372-2e18-4b98-b6ec-7318d1b7e009",
   "metadata": {},
   "source": [
    "## Author"
   ]
  },
  {
   "cell_type": "markdown",
   "id": "bfe8d0d4-cb65-4f9c-92cb-05e5c81aaa9d",
   "metadata": {},
   "source": [
    "Jairus "
   ]
  },
  {
   "cell_type": "code",
   "execution_count": null,
   "id": "db2ded81-1651-4978-a147-4449be8a556e",
   "metadata": {},
   "outputs": [],
   "source": []
  }
 ],
 "metadata": {
  "kernelspec": {
   "display_name": "Python",
   "language": "python",
   "name": "conda-env-python-py"
  },
  "language_info": {
   "codemirror_mode": {
    "name": "ipython",
    "version": 3
   },
   "file_extension": ".py",
   "mimetype": "text/x-python",
   "name": "python",
   "nbconvert_exporter": "python",
   "pygments_lexer": "ipython3",
   "version": "3.7.12"
  }
 },
 "nbformat": 4,
 "nbformat_minor": 5
}
